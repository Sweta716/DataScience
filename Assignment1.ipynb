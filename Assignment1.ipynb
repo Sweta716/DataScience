{
 "cells": [
  {
   "cell_type": "code",
   "execution_count": 1,
   "id": "0022e5e8-67d6-47c9-8914-eff59c7e49ec",
   "metadata": {},
   "outputs": [
    {
     "name": "stdout",
     "output_type": "stream",
     "text": [
      "5\n"
     ]
    }
   ],
   "source": [
    "# Perform the following list operations:\n",
    "# a. maximum number in a list of numbers,\n",
    "numbers = [1, 2, 3, 4, 5]\n",
    "maximum = max(numbers)\n",
    "print(maximum)"
   ]
  },
  {
   "cell_type": "code",
   "execution_count": 2,
   "id": "b7e5a348-111f-49a1-b22a-31b230715e5b",
   "metadata": {},
   "outputs": [
    {
     "name": "stdout",
     "output_type": "stream",
     "text": [
      "[1, 2, 3, 4, 5, 6]\n"
     ]
    }
   ],
   "source": [
    "# b. concatenate two lists,\n",
    "list1 = [1, 2, 3]\n",
    "list2 = [4, 5, 6]\n",
    "concatenated_list = list1 + list2\n",
    "print(concatenated_list)"
   ]
  },
  {
   "cell_type": "code",
   "execution_count": 3,
   "id": "9b4c8ac7-1fa6-49cc-8210-db8ec9549c33",
   "metadata": {},
   "outputs": [
    {
     "name": "stdout",
     "output_type": "stream",
     "text": [
      "[5, 4, 3, 2, 1]\n"
     ]
    }
   ],
   "source": [
    "# c. reverse a list,\n",
    "numbers = [1, 2, 3, 4, 5]\n",
    "numbers.reverse()\n",
    "print(numbers)"
   ]
  },
  {
   "cell_type": "code",
   "execution_count": 4,
   "id": "0a93867b-a532-4fa6-bb19-1dee2b3866c2",
   "metadata": {},
   "outputs": [
    {
     "name": "stdout",
     "output_type": "stream",
     "text": [
      "[5, 2, 3, 4, 1]\n"
     ]
    }
   ],
   "source": [
    "# d. interchange the first and the last elements in a list,\n",
    "numbers = [1, 2, 3, 4, 5]\n",
    "numbers[0], numbers[-1] = numbers[-1], numbers[0]\n",
    "print(numbers) "
   ]
  },
  {
   "cell_type": "code",
   "execution_count": 5,
   "id": "3cd1660f-79f8-472b-9781-fc4178837df2",
   "metadata": {},
   "outputs": [
    {
     "name": "stdout",
     "output_type": "stream",
     "text": [
      "ban found in banana\n"
     ]
    }
   ],
   "source": [
    "# e. search if a given string is a substring of a list of strings.\n",
    "strings = ['apple', 'banana', 'cherry']\n",
    "substring = 'ban'\n",
    "for string in strings:\n",
    "    if substring in string:\n",
    "        print(f'{substring} found in {string}')"
   ]
  },
  {
   "cell_type": "code",
   "execution_count": 6,
   "id": "05c0eee2-09cf-4d34-b365-524e63a40087",
   "metadata": {},
   "outputs": [
    {
     "name": "stdout",
     "output_type": "stream",
     "text": [
      "[1, 2, 4, 5]\n"
     ]
    }
   ],
   "source": [
    "# 2) Write a Python program to delete an element from a list by index.\n",
    "numbers = [1, 2, 3, 4, 5]\n",
    "del numbers[2]  # deletes the element at index 2 (which is 3)\n",
    "print(numbers)"
   ]
  },
  {
   "cell_type": "code",
   "execution_count": 10,
   "id": "0a49238e-cfd3-464e-adb6-bef9fc8a88eb",
   "metadata": {},
   "outputs": [
    {
     "name": "stdout",
     "output_type": "stream",
     "text": [
      "4 is even.\n"
     ]
    }
   ],
   "source": [
    "# 3) Write a Python program to check whether the given number is even or not.\n",
    "def is_even(n):\n",
    "    if n % 2 == 0:\n",
    "        return True\n",
    "    else:\n",
    "        return False\n",
    "\n",
    "number = 4\n",
    "if is_even(number):\n",
    "    print(f\"{number} is even.\")\n",
    "else:\n",
    "    print(f\"{number} is odd.\")"
   ]
  },
  {
   "cell_type": "code",
   "execution_count": 11,
   "id": "4f73f20e-ec35-4d72-ae4a-3d8d11aad084",
   "metadata": {},
   "outputs": [
    {
     "name": "stdout",
     "output_type": "stream",
     "text": [
      "The factorial of 5 is 120.\n"
     ]
    }
   ],
   "source": [
    "# 4) Write a program which can compute the factorial of a given number. Make sure to take into \n",
    "# account the exceptions like a negative number.\n",
    "def factorial(n):\n",
    "    if n < 0:\n",
    "        raise ValueError(\"factorial() not defined for negative values\")\n",
    "    result = 1\n",
    "    for i in range(1,n+1):\n",
    "        result *= i\n",
    "    return result\n",
    "\n",
    "try:\n",
    "    number = 5\n",
    "    result = factorial(number)\n",
    "    print(f\"The factorial of {number} is {result}.\")\n",
    "except ValueError as e:\n",
    "    print(e)"
   ]
  },
  {
   "cell_type": "code",
   "execution_count": 12,
   "id": "97f45d70-e213-4ed6-a6c4-6dd1d192af7c",
   "metadata": {},
   "outputs": [
    {
     "name": "stdout",
     "output_type": "stream",
     "text": [
      "apple 1\n",
      "banana 2\n",
      "cherry 3\n"
     ]
    }
   ],
   "source": [
    "# 5) Write a Python program to create a dictionary and display both the keys and values sorted in \n",
    "# alphabetical order by the key\n",
    "# Create a dictionary\n",
    "d = {'apple': 1, 'banana': 2, 'cherry': 3}\n",
    "\n",
    "# Sort the keys and print the key-value pairs\n",
    "for key in sorted(d.keys()):\n",
    "    print(key, d[key])"
   ]
  },
  {
   "cell_type": "code",
   "execution_count": 14,
   "id": "1d24662e-ad5e-4da2-a898-668145168a90",
   "metadata": {},
   "outputs": [
    {
     "name": "stdout",
     "output_type": "stream",
     "text": [
      "['invalid', 'invalid', 0.0, 0.6931471805599453, 1.0986122886681098, 1.3862943611198906]\n"
     ]
    }
   ],
   "source": [
    "# 6) Write a lambda function to compute log values of only positive numbers, else return \n",
    "import math\n",
    "nums = [-1, 0, 1, 2, 3, 4]\n",
    "log_values = list(map(lambda x: math.log(x) if x>0 else 'invalid', nums))\n",
    "print(log_values)"
   ]
  },
  {
   "cell_type": "code",
   "execution_count": 15,
   "id": "78680501-e297-4a94-af9e-e4960053e83e",
   "metadata": {},
   "outputs": [
    {
     "name": "stdout",
     "output_type": "stream",
     "text": [
      "[[10, 10, 10], [10, 10, 10], [10, 10, 10]]\n"
     ]
    }
   ],
   "source": [
    "# 7) Write a function to add elements of two input matrices\n",
    "def add_matrices(mat1, mat2):\n",
    "    return [[mat1[i][j] + mat2[i][j] for j in range(len(mat1[0]))] for i in range(len(mat1))]\n",
    "\n",
    "mat1 = [[1, 2, 3], [4, 5, 6], [7, 8, 9]]\n",
    "mat2 = [[9, 8, 7], [6, 5, 4], [3, 2, 1]]\n",
    "\n",
    "result = add_matrices(mat1, mat2)\n",
    "print(result)"
   ]
  },
  {
   "cell_type": "code",
   "execution_count": 30,
   "id": "8beb0570-3d53-4099-bf27-12d0d610146e",
   "metadata": {},
   "outputs": [
    {
     "name": "stdout",
     "output_type": "stream",
     "text": [
      "      Name  Age          City Country\n",
      "0      Ram   25      New York     USA\n",
      "1     Sham   32   Los Angeles     USA\n",
      "2     Sita   19       Chicago     USA\n",
      "3    Geeta   46       Houston     USA\n",
      "4   Aparna   27       Phoenix     USA\n",
      "5    Omkar   56  Philadelphia     USA\n",
      "6   Palash   34   San Antonio     USA\n",
      "7    Smita   23     San Diego     USA\n",
      "8    Vivek   42        Dallas     USA\n",
      "9    Shalu   33      San Jose     USA\n",
      "10  Mahesh   22  Jacksonville     USA\n",
      "11    Isha   35  Indianapolis     USA\n"
     ]
    }
   ],
   "source": [
    "# 8) Create your own Pandas dataframe df with three columns and a dozen rows. Do the following \n",
    "# operations:\n",
    "# • Insert a new column to df.\n",
    "import pandas as pd\n",
    "\n",
    "# Create a DataFrame with three columns and a dozen rows\n",
    "data = {'Name': ['Ram', 'Sham', 'Sita', 'Geeta', 'Aparna', 'Omkar', 'Palash', 'Smita', 'Vivek', 'Shalu', 'Mahesh', 'Isha'],\n",
    "        'Age': [25, 32, 19, 46, 27, 56, 34, 23, 42, 33, 22, 35],\n",
    "        'City': ['New York', 'Los Angeles', 'Chicago', 'Houston', 'Phoenix', 'Philadelphia', 'San Antonio', 'San Diego', 'Dallas', 'San Jose', 'Jacksonville', 'Indianapolis']}\n",
    "df = pd.DataFrame(data)\n",
    "\n",
    "# Insert a new column 'Country' with default values\n",
    "df.insert(3, 'Country', 'USA')\n",
    "\n",
    "print(df)"
   ]
  },
  {
   "cell_type": "code",
   "execution_count": 31,
   "id": "68504602-b9d4-4176-b508-d313c6ce163c",
   "metadata": {},
   "outputs": [
    {
     "name": "stdout",
     "output_type": "stream",
     "text": [
      "      Name  Age          City Country\n",
      "0      Ram   25      New York     USA\n",
      "1     Sham   32   Los Angeles     USA\n",
      "2     Sita   19       Chicago     USA\n",
      "3    Geeta   46       Houston     USA\n",
      "4   Aparna   27       Phoenix     USA\n",
      "5    Omkar   56  Philadelphia     USA\n",
      "6   Palash   34   San Antonio     USA\n",
      "7    Smita   23     San Diego     USA\n",
      "8    Vivek   42        Dallas     USA\n",
      "9    Shalu   33      San Jose     USA\n",
      "10  Mahesh   22  Jacksonville     USA\n",
      "11    Isha   35  Indianapolis     USA\n",
      "12  Sophia   28        Boston     USA\n"
     ]
    }
   ],
   "source": [
    "# • Add a new tuple to df.\n",
    "new_tuple = {'Name': 'Sophia', 'Age': 28, 'City': 'Boston', 'Country': 'USA'}\n",
    "df = pd.concat([df, pd.DataFrame([new_tuple], columns=df.columns)], ignore_index=True)\n",
    "\n",
    "print(df)"
   ]
  },
  {
   "cell_type": "code",
   "execution_count": 32,
   "id": "1b310b94-a1ed-46d9-bde0-44263256728e",
   "metadata": {},
   "outputs": [
    {
     "name": "stdout",
     "output_type": "stream",
     "text": [
      "Ram 25 New York USA\n",
      "Sham 32 Los Angeles USA\n",
      "Sita 19 Chicago USA\n",
      "Geeta 46 Houston USA\n",
      "Aparna 27 Phoenix USA\n",
      "Omkar 56 Philadelphia USA\n",
      "Palash 34 San Antonio USA\n",
      "Smita 23 San Diego USA\n",
      "Vivek 42 Dallas USA\n",
      "Shalu 33 San Jose USA\n",
      "Mahesh 22 Jacksonville USA\n",
      "Isha 35 Indianapolis USA\n",
      "Sophia 28 Boston USA\n"
     ]
    }
   ],
   "source": [
    "# • Iterate over the rows of df and display.\n",
    "for index, row in df.iterrows():\n",
    "    print(row['Name'], row['Age'], row['City'], row['Country'])"
   ]
  },
  {
   "cell_type": "code",
   "execution_count": 21,
   "id": "04049780-6cbc-4913-a4a5-6e18f00f4c2b",
   "metadata": {},
   "outputs": [
    {
     "name": "stdout",
     "output_type": "stream",
     "text": [
      "Index(['Name', 'Age', 'City', 'Country'], dtype='object')\n"
     ]
    }
   ],
   "source": [
    "# • Display the column names of df.\n",
    "print(df.columns)"
   ]
  },
  {
   "cell_type": "code",
   "execution_count": 33,
   "id": "762e6c6d-723d-441b-901f-d49b3504a52f",
   "metadata": {},
   "outputs": [
    {
     "name": "stdout",
     "output_type": "stream",
     "text": [
      "      Name  Age          City Country\n",
      "0      Ram   25      New York     USA\n",
      "1     Sham   32   Los Angeles     USA\n",
      "2     Sita   19       Chicago     USA\n",
      "3    Geeta   46       Houston     USA\n",
      "4   Aparna   27       Phoenix     USA\n",
      "5    Omkar   56  Philadelphia     USA\n",
      "6   Palash   34   San Antonio     USA\n",
      "7    Smita   23     San Diego     USA\n",
      "8    Vivek   42        Dallas     USA\n",
      "9    Shalu   33      San Jose     USA\n",
      "10  Mahesh   22  Jacksonville     USA\n",
      "11    Isha   35  Indianapolis     USA\n",
      "12  Sophia   28        Boston     USA\n"
     ]
    }
   ],
   "source": [
    "# • Drop a list of rows based on some criterion applied to the first column (e.g., if the first column is \n",
    "df = df[~df['Name'].str.startswith('J')]\n",
    "\n",
    "print(df)"
   ]
  },
  {
   "cell_type": "code",
   "execution_count": 34,
   "id": "36cb6131-8615-46e0-be05-56b4bc325b4e",
   "metadata": {},
   "outputs": [
    {
     "name": "stdout",
     "output_type": "stream",
     "text": [
      "      Name  Age          City Country\n",
      "0      Ram   25      New York     USA\n",
      "2     Sita   19       Chicago     USA\n",
      "7    Smita   23     San Diego     USA\n",
      "10  Mahesh   22  Jacksonville     USA\n"
     ]
    }
   ],
   "source": [
    "# an integer column then all rows with values of the first column greater than 25).\n",
    "# Drop rows where the age is greater than 25\n",
    "df = df[df['Age'] <= 25]\n",
    "\n",
    "print(df)"
   ]
  },
  {
   "cell_type": "code",
   "execution_count": 35,
   "id": "ef6fa3ae-bb95-49b4-b0f1-e4c659996ded",
   "metadata": {},
   "outputs": [
    {
     "name": "stdout",
     "output_type": "stream",
     "text": [
      "     Name  Age          City Country\n",
      "0     Ram   25      New York     USA\n",
      "1    Sita   19       Chicago     USA\n",
      "2   Smita   23     San Diego     USA\n",
      "3  Mahesh   22  Jacksonville     USA\n"
     ]
    }
   ],
   "source": [
    "# • Export df into an excel file and then import from the same.\n",
    "# Export DataFrame to an excel file\n",
    "df.to_excel(\"data.xlsx\", index=False)\n",
    "\n",
    "# Import data from the excel file\n",
    "df_imported = pd.read_excel(\"data.xlsx\")\n",
    "\n",
    "print(df_imported)"
   ]
  },
  {
   "cell_type": "code",
   "execution_count": 36,
   "id": "ebdddcf9-3e90-44d5-8eeb-8de513f22215",
   "metadata": {},
   "outputs": [
    {
     "name": "stdout",
     "output_type": "stream",
     "text": [
      "      Name  Age          City\n",
      "0      Ram   25      New York\n",
      "1     Sham   32   Los Angeles\n",
      "2     Sita   19       Chicago\n",
      "3    Geeta   46       Houston\n",
      "4   Aparna   27       Phoenix\n",
      "5    Omkar   56  Philadelphia\n",
      "6   Palash   34   San Antonio\n",
      "7    Smita   23     San Diego\n",
      "8    Vivek   42        Dallas\n",
      "9    Shalu   33      San Jose\n",
      "10  Mahesh   22  Jacksonville\n",
      "11    Isha   35  Indianapolis\n",
      "12   Sweta    0        Boston\n"
     ]
    }
   ],
   "source": [
    "# • Replace all the NaN values with zeros in a column of df.\n",
    "import numpy as np\n",
    "new_tuple = {'Name': 'Sweta', 'Age': np.nan, 'City': 'Boston', 'Country': 'USA'}\n",
    "\n",
    "df = pd.DataFrame(data)\n",
    "df = pd.concat([df, pd.DataFrame([new_tuple], columns=df.columns)], ignore_index=True)\n",
    "# print(df)\n",
    "df[\"Age\"].fillna(0, inplace=True)\n",
    "df[\"Age\"] = df[\"Age\"].astype(int)\n",
    "\n",
    "print(df)"
   ]
  },
  {
   "cell_type": "code",
   "execution_count": 37,
   "id": "257cf301-b969-4dea-b75d-488cc9d328c1",
   "metadata": {},
   "outputs": [
    {
     "name": "stdout",
     "output_type": "stream",
     "text": [
      "      Name  Age          City\n",
      "0      Ram   25      New York\n",
      "1     Sham   32   Los Angeles\n",
      "2     Sita   40       Chicago\n",
      "3    Geeta   46       Houston\n",
      "4   Aparna   27       Phoenix\n",
      "5    Omkar   56  Philadelphia\n",
      "6   Palash   34   San Antonio\n",
      "7    Smita   23     San Diego\n",
      "8    Vivek   42        Dallas\n",
      "9    Shalu   33      San Jose\n",
      "10  Mahesh   22  Jacksonville\n",
      "11    Isha   35  Indianapolis\n",
      "12   Sweta    0        Boston\n"
     ]
    }
   ],
   "source": [
    "\n",
    "# • Set a given value for a particular cell in df.\n",
    "# Set the value of the cell in row 2, column 'Age' to 40\n",
    "df.at[2, 'Age'] = 40\n",
    "\n",
    "print(df)"
   ]
  },
  {
   "cell_type": "code",
   "execution_count": 38,
   "id": "df18afa4-bdab-4a79-87e4-08368bb229af",
   "metadata": {},
   "outputs": [
    {
     "name": "stdout",
     "output_type": "stream",
     "text": [
      "Training Set:\n",
      "      Name  Age          City\n",
      "6   Palash   34   San Antonio\n",
      "11    Isha   35  Indianapolis\n",
      "4   Aparna   27       Phoenix\n",
      "10  Mahesh   22  Jacksonville\n",
      "2     Sita   40       Chicago\n",
      "8    Vivek   42        Dallas\n",
      "1     Sham   32   Los Angeles\n",
      "7    Smita   23     San Diego\n",
      "9    Shalu   33      San Jose\n",
      "Test Set:\n",
      "     Name  Age          City\n",
      "0     Ram   25      New York\n",
      "3   Geeta   46       Houston\n",
      "5   Omkar   56  Philadelphia\n",
      "12  Sweta    0        Boston\n"
     ]
    }
   ],
   "source": [
    "# • Divide df into in a given ratio.\n",
    "# Divide the DataFrame into a training set (70%) and a test set (30%)\n",
    "train_ratio = 0.7\n",
    "train_set = df.sample(frac=train_ratio, random_state=0)\n",
    "test_set = df.drop(train_set.index)\n",
    "\n",
    "print(\"Training Set:\")\n",
    "print(train_set)\n",
    "print(\"Test Set:\")\n",
    "print(test_set)"
   ]
  },
  {
   "cell_type": "code",
   "execution_count": 39,
   "id": "74d048e1-06ab-450b-8baa-f59234fe275a",
   "metadata": {},
   "outputs": [
    {
     "name": "stdout",
     "output_type": "stream",
     "text": [
      "      Name  Years          City\n",
      "0      Ram     25      New York\n",
      "1     Sham     32   Los Angeles\n",
      "2     Sita     40       Chicago\n",
      "3    Geeta     46       Houston\n",
      "4   Aparna     27       Phoenix\n",
      "5    Omkar     56  Philadelphia\n",
      "6   Palash     34   San Antonio\n",
      "7    Smita     23     San Diego\n",
      "8    Vivek     42        Dallas\n",
      "9    Shalu     33      San Jose\n",
      "10  Mahesh     22  Jacksonville\n",
      "11    Isha     35  Indianapolis\n",
      "12   Sweta      0        Boston\n"
     ]
    }
   ],
   "source": [
    "# • Rename a specific column name.\n",
    "# Rename column 'Age' to 'Years'\n",
    "df.rename(columns={'Age': 'Years'}, inplace=True)\n",
    "\n",
    "print(df)\n"
   ]
  },
  {
   "cell_type": "code",
   "execution_count": 40,
   "id": "09866295-7ae4-4f77-a099-0ced126d2765",
   "metadata": {},
   "outputs": [
    {
     "name": "stdout",
     "output_type": "stream",
     "text": [
      "      Name  Years          City\n",
      "10  Mahesh     22  Jacksonville\n",
      "11    Isha     35  Indianapolis\n",
      "12   Sweta      0        Boston\n"
     ]
    }
   ],
   "source": [
    "# • Display the last three rows of df.\n",
    "# Display the last three rows of df\n",
    "print(df.tail(3))"
   ]
  },
  {
   "cell_type": "code",
   "execution_count": 41,
   "id": "804f6407-f2ad-4838-928a-a4ccbb3c3874",
   "metadata": {},
   "outputs": [
    {
     "name": "stdout",
     "output_type": "stream",
     "text": [
      "[1, 2, 3, 4, 5, 6, 7, 8, 9, 10]\n"
     ]
    }
   ],
   "source": [
    "# 9) With a given list of numbers, write a program to print this list after removing all duplicate values \n",
    "# with the original order reserved\n",
    "numbers = [1, 2, 3, 4, 5, 6, 7, 8, 9, 10, 9, 8, 7, 6, 5, 4, 3, 2, 1]\n",
    "\n",
    "# Create a new list to store the unique numbers\n",
    "unique_numbers = []\n",
    "\n",
    "# Iterate through the original list and add unique numbers to the new list\n",
    "for number in numbers:\n",
    "    if number not in unique_numbers:\n",
    "        unique_numbers.append(number)\n",
    "\n",
    "print(unique_numbers)"
   ]
  },
  {
   "cell_type": "code",
   "execution_count": 42,
   "id": "9e239f96-9699-43bd-b603-0f14ef41e777",
   "metadata": {},
   "outputs": [
    {
     "name": "stdin",
     "output_type": "stream",
     "text": [
      "Enter a string:  abcdefgabc\n"
     ]
    },
    {
     "name": "stdout",
     "output_type": "stream",
     "text": [
      "{'a': 2, 'b': 2, 'c': 2, 'd': 1, 'e': 1, 'f': 1, 'g': 1}\n"
     ]
    }
   ],
   "source": [
    "# 10)Write a program which counts and prints the numbers of each character in a string input by \n",
    "# console.\n",
    "string = input(\"Enter a string: \")\n",
    "\n",
    "# Create a dictionary to store the character count\n",
    "char_count = {}\n",
    "\n",
    "# Iterate through the string and count the occurrences of each character\n",
    "for char in string:\n",
    "    if char in char_count:\n",
    "        char_count[char] += 1\n",
    "    else:\n",
    "        char_count[char] = 1\n",
    "\n",
    "# Print the character count\n",
    "print(char_count)\n"
   ]
  },
  {
   "cell_type": "code",
   "execution_count": 45,
   "id": "c84850a5-271d-46a0-a578-36ce46e0e23b",
   "metadata": {},
   "outputs": [
    {
     "name": "stdin",
     "output_type": "stream",
     "text": [
      "Enter a string:  byebye\n"
     ]
    },
    {
     "name": "stdout",
     "output_type": "stream",
     "text": [
      "The string is symmetrical\n"
     ]
    }
   ],
   "source": [
    "# 11) Check if a given string is symmetrical and palindrome or not. A string is said to be symmetrical if \n",
    "# both the halves of the string are the same and a string is said to be a palindrome string if one \n",
    "# half of the string is the reverse of the other half or if a string appears same when read forward \n",
    "# or backward. The string “malayalam” is palindrome, “byebye” is symmetrical\n",
    "string = input(\"Enter a string: \")\n",
    "\n",
    "# Check if the string is symmetrical\n",
    "is_symmetrical = string[:len(string)//2] == string[len(string)//2:]\n",
    "\n",
    "# Check if the string is a palindrome\n",
    "is_palindrome = string == string[::-1]\n",
    "\n",
    "if is_symmetrical and is_palindrome:\n",
    "    print(\"The string is symmetrical and a palindrome\")\n",
    "elif is_symmetrical:\n",
    "    print(\"The string is symmetrical\")\n",
    "elif is_palindrome:\n",
    "    print(\"The string is a palindrome\")\n",
    "else:\n",
    "    print(\"The string is not symmetrical or a palindrome\")\n"
   ]
  },
  {
   "cell_type": "code",
   "execution_count": 46,
   "id": "a79a69aa-10a8-4fe0-9880-9b9fc4ae7dfe",
   "metadata": {},
   "outputs": [
    {
     "name": "stdout",
     "output_type": "stream",
     "text": [
      "55\n"
     ]
    }
   ],
   "source": [
    "# 12) Write a Python program to find the n-th term in a Fibonacci series using recursion.\n",
    "def fibonacci(n):\n",
    "    if n <= 0:\n",
    "        return 0\n",
    "    elif n == 1:\n",
    "        return 1\n",
    "    else:\n",
    "        return fibonacci(n-1) + fibonacci(n-2)\n",
    "\n",
    "print(fibonacci(10))"
   ]
  },
  {
   "cell_type": "code",
   "execution_count": 48,
   "id": "3ce67021-6791-4f09-93e5-93be5bf8e6f2",
   "metadata": {},
   "outputs": [
    {
     "name": "stdout",
     "output_type": "stream",
     "text": [
      "acdfgh\n",
      "--- 0.001081705093383789 seconds ---\n"
     ]
    }
   ],
   "source": [
    "# 13) Write a Python program to find the longest substring between two given strings. You may not \n",
    "# use any package except the substring function but you can make use of recursive function. Here \n",
    "# is the way you will be graded:\n",
    "# import time\n",
    "# start_time = time.time()\n",
    "# main()\n",
    "\n",
    "# print(\"--- %s seconds ---\" % (time.time() - start_time))\n",
    "import time\n",
    "\n",
    "def longest_substring(str1, str2):\n",
    "    if not str1 or not str2:\n",
    "        return \"\"\n",
    "    if str1[-1] == str2[-1]:\n",
    "        return longest_substring(str1[:-1], str2[:-1]) + str1[-1]\n",
    "    else:\n",
    "        substring1 = longest_substring(str1, str2[:-1])\n",
    "        substring2 = longest_substring(str1[:-1], str2)\n",
    "        return substring1 if len(substring1) > len(substring2) else substring2\n",
    "\n",
    "def main():\n",
    "    str1 = \"abcdefgh\"\n",
    "    str2 = \"acdfghe\"\n",
    "    print(longest_substring(str1, str2))\n",
    "\n",
    "start_time = time.time()\n",
    "main()\n",
    "print(\"--- %s seconds ---\" % (time.time() - start_time))\n"
   ]
  },
  {
   "cell_type": "code",
   "execution_count": 49,
   "id": "eaca5ce9-7766-4fce-b63f-d657eb472f7d",
   "metadata": {},
   "outputs": [
    {
     "name": "stdin",
     "output_type": "stream",
     "text": [
      "Enter a mathematical expression:  35 + 3 * 2\n"
     ]
    },
    {
     "name": "stdout",
     "output_type": "stream",
     "text": [
      "41\n"
     ]
    }
   ],
   "source": [
    "# 14) Write a Python program which accepts basic mathematical expressions from console and print \n",
    "# the evaluation result.\n",
    "# EXAMPLE:\n",
    "# INPUT: 35 + 3 * 2\n",
    "\n",
    "expression = input(\"Enter a mathematical expression: \")\n",
    "result = eval(expression)\n",
    "print(result)\n"
   ]
  },
  {
   "cell_type": "code",
   "execution_count": 7,
   "id": "50af075e-ea32-476e-a64d-ff41904c10ad",
   "metadata": {},
   "outputs": [
    {
     "name": "stdout",
     "output_type": "stream",
     "text": [
      "Mean of Age column: 31.51016316713986\n",
      "Variance of Age column: 140.2707459411694\n"
     ]
    }
   ],
   "source": [
    "# 15) Read the loan data file into a dataframe and then compute the following: \n",
    "# • mean and variance of the Age column, \n",
    "\n",
    "\n",
    "# Import the Pandas library\n",
    "import pandas as pd\n",
    "import os\n",
    "\n",
    "# Read the XLSX file into a dataframe\n",
    "df = pd.read_excel( \"loan.xlsx\")\n",
    "\n",
    "# Display the first five rows of the dataframe\n",
    "# df1.head()\n",
    "# calculate mean of Age column\n",
    "mean = df[\"Age\"].mean()\n",
    "\n",
    "# calculate variance of Age column\n",
    "variance = df[\"Age\"].var()\n",
    "\n",
    "print(\"Mean of Age column:\", mean)\n",
    "print(\"Variance of Age column:\", variance)\n",
    "\n"
   ]
  },
  {
   "cell_type": "code",
   "execution_count": 11,
   "id": "b5bb813d-7bdb-4582-b4b3-f6eb963e2fd0",
   "metadata": {},
   "outputs": [
    {
     "name": "stdout",
     "output_type": "stream",
     "text": [
      "Correlation coefficient between Age and Time_at_address columns: 0.21734150131364394\n",
      "p(Decision = reject | Occupation = Unemployed): nan\n"
     ]
    },
    {
     "data": {
      "image/png": "[encoded data removed]",
      "text/plain": [
       "<Figure size 640x480 with 1 Axes>"
      ]
     },
     "metadata": {},
     "output_type": "display_data"
    }
   ],
   "source": [
    "# • correlation coefficient between the two numerical columns Age and Time_at_address, \n",
    "# calculate correlation coefficient between Age and Time_at_address columns\n",
    "corr = df[\"Age\"].corr(df[\"Time_at_address\"])\n",
    "\n",
    "print(\"Correlation coefficient between Age and Time_at_address columns:\", corr)\n",
    "# • the conditional probability p(Decision = reject | Occupation = Unemployed), \n",
    "# calculate the conditional probability\n",
    "p_reject_given_unemployed = df[df[\"Occupation\"] == \"Unemployed\"][\"Decision\"].mean()\n",
    "\n",
    "print(\"p(Decision = reject | Occupation = Unemployed):\", p_reject_given_unemployed)\n",
    "# • frequency of values in the Job-status column and then draw a bar diagram using matplotlib. \n",
    "import matplotlib.pyplot as plt\n",
    "# calculate the frequency of each value in Job-status column\n",
    "job_status_counts = df[\"Job_status\"].value_counts()\n",
    "\n",
    "# draw a bar diagram\n",
    "job_status_counts.plot(kind=\"bar\")\n",
    "plt.xlabel(\"Job_status\")\n",
    "plt.ylabel(\"Frequency\")\n",
    "plt.show()"
   ]
  },
  {
   "cell_type": "code",
   "execution_count": 16,
   "id": "1308a67a-c8b5-4b1b-a884-a0cda700c26d",
   "metadata": {},
   "outputs": [
    {
     "name": "stdout",
     "output_type": "stream",
     "text": [
      "Sex vs Decision: chi2=0.9698325379091995, p-value=0.32472194700727103\n",
      "Age vs Decision: chi2=285.0157436708861, p-value=0.2962203354632565\n",
      "Time_at_address vs Decision: chi2=182.96578346330622, p-value=0.26931516746140144\n",
      "Res_status vs Decision: chi2=7.645830831133978, p-value=0.005690368175836289\n",
      "Telephone vs Decision: chi2=7.645830831133978, p-value=0.005690368175836289\n",
      "Occupation vs Decision: chi2=54.399272667846525, p-value=9.980070508394483e-08\n",
      "Job_status vs Decision: chi2=25.619055363910597, p-value=0.0002621149847778766\n",
      "Time_employed vs Decision: chi2=94.16181430721024, p-value=2.5644729400248205e-12\n",
      "Time_bank vs Decision: chi2=120.44999079265924, p-value=9.138247773480138e-17\n",
      "Liab_ref vs Decision: chi2=1.7463603456735195, p-value=0.1863349426112134\n",
      "Acc_ref vs Decision: chi2=4.061563099061301, p-value=0.04386987339959904\n",
      "Home_Expn vs Decision: chi2=163.13593252563768, p-value=0.012417346116707108\n",
      "Balance vs Decision: chi2=212.89506504592177, p-value=0.014238088782275036\n"
     ]
    }
   ],
   "source": [
    "# 16) Suppose the loan data file provides some examples of applications to accept or reject, as \n",
    "# specified in the Decision column N, given the input background info in columns A-M. Come up \n",
    "# with various ways to find out the degree of relevance between each input “categorical” column \n",
    "# of A-M and the Decision column N. (hint. Chi-Square Test of Independence and Mutual \n",
    "# Information) \n",
    "import pandas as pd\n",
    "from scipy.stats import chi2_contingency\n",
    "\n",
    "# read in xlsx file\n",
    "df = pd.read_excel(\"loan.xlsx\")\n",
    "\n",
    "# list of column names\n",
    "\n",
    "\n",
    "cols = [\"Sex\", \"Age\", \"Time_at_address\", \"Res_status\", \"Telephone\", \"Occupation\", \"Job_status\", \"Time_employed\", \"Time_bank\" ,\"Liab_ref\", \"Acc_ref\", \"Home_Expn\" ,\"Balance\"]\n",
    "\n",
    "# loop through each column and calculate chi-square test of independence\n",
    "for col in cols:\n",
    "    cont_table = pd.crosstab(df[col], df[\"Decision\"])\n",
    "    chi2, p, dof, expected = chi2_contingency(cont_table)\n",
    "    print(f\"{col} vs Decision: chi2={chi2}, p-value={p}\")\n"
   ]
  },
  {
   "cell_type": "code",
   "execution_count": 17,
   "id": "140158c6-1d9c-474b-91f0-39c4a8af7f46",
   "metadata": {},
   "outputs": [
    {
     "name": "stdout",
     "output_type": "stream",
     "text": [
      "Sex vs Decision: mutual information=0.0013786499819645193\n",
      "Age vs Decision: mutual information=0.45208232163636497\n",
      "Time_at_address vs Decision: mutual information=0.2870716962193829\n",
      "Res_status vs Decision: mutual information=0.009895724904181002\n",
      "Telephone vs Decision: mutual information=0.009895724904181002\n",
      "Occupation vs Decision: mutual information=0.06716078077337792\n",
      "Job_status vs Decision: mutual information=0.0325517640851245\n",
      "Time_employed vs Decision: mutual information=0.12396699137273745\n",
      "Time_bank vs Decision: mutual information=0.16036100061337227\n",
      "Liab_ref vs Decision: mutual information=0.0023466823536576475\n",
      "Acc_ref vs Decision: mutual information=0.00595127695583228\n",
      "Home_Expn vs Decision: mutual information=0.242116262984245\n",
      "Balance vs Decision: mutual information=0.3348547522227585\n"
     ]
    },
    {
     "name": "stderr",
     "output_type": "stream",
     "text": [
      "C:\\anaconda3\\lib\\site-packages\\sklearn\\metrics\\cluster\\_supervised.py:65: UserWarning: Clustering metrics expects discrete values but received continuous values for label, and binary values for target\n",
      "  warnings.warn(msg, UserWarning)\n",
      "C:\\anaconda3\\lib\\site-packages\\sklearn\\metrics\\cluster\\_supervised.py:65: UserWarning: Clustering metrics expects discrete values but received continuous values for label, and binary values for target\n",
      "  warnings.warn(msg, UserWarning)\n"
     ]
    }
   ],
   "source": [
    "from sklearn.metrics import mutual_info_score\n",
    "# loop through each column and calculate mutual information\n",
    "for col in cols:\n",
    "    mi = mutual_info_score(df[col], df[\"Decision\"])\n",
    "    print(f\"{col} vs Decision: mutual information={mi}\")"
   ]
  },
  {
   "cell_type": "code",
   "execution_count": 21,
   "id": "d275df36-1c03-4c6c-9a30-97c2be6b85cb",
   "metadata": {},
   "outputs": [
    {
     "name": "stdout",
     "output_type": "stream",
     "text": [
      "Price: $12.00\n"
     ]
    }
   ],
   "source": [
    "# 17) Define a class, called Lunch, with __init__() method should have two arguments, self and menu, \n",
    "# where menu is a string. Add a method called menu_price. It will involve an if statement: if \n",
    "# \"menu 1\" then print \"Price 12.00\", if \"menu 2\" then print \"Price 13.40\", else print \"Error in \n",
    "# menu\". Test with Paul = Lunch(\"menu 1\") and call Paul.menu_price(). \n",
    "class Lunch:\n",
    "    def __init__(self, menu):\n",
    "        self.menu = menu\n",
    "\n",
    "    def menu_price(self):\n",
    "        if self.menu == \"menu 1\":\n",
    "            print(\"Price: $12.00\")\n",
    "        elif self.menu == \"menu 2\":\n",
    "            print(\"Price: $13.40\")\n",
    "        else:\n",
    "            print(\"Error in menu\")\n",
    "\n",
    "Paul = Lunch(\"menu 1\")\n",
    "Paul.menu_price()\n",
    "\n"
   ]
  },
  {
   "cell_type": "code",
   "execution_count": null,
   "id": "ae24c4cd-21cc-4e82-b996-0981cdb3b01f",
   "metadata": {},
   "outputs": [],
   "source": []
  },
  {
   "cell_type": "code",
   "execution_count": null,
   "id": "b5a4b9e1-d0ea-47a3-8e38-c012ceccf0d2",
   "metadata": {},
   "outputs": [],
   "source": []
  },
  {
   "cell_type": "code",
   "execution_count": null,
   "id": "2bd9dabe-7959-4dd2-9da0-f72fa6ea035a",
   "metadata": {},
   "outputs": [],
   "source": []
  }
 ],
 "metadata": {
  "kernelspec": {
   "display_name": "Python 3 (ipykernel)",
   "language": "python",
   "name": "python3"
  },
  "language_info": {
   "codemirror_mode": {
    "name": "ipython",
    "version": 3
   },
   "file_extension": ".py",
   "mimetype": "text/x-python",
   "name": "python",
   "nbconvert_exporter": "python",
   "pygments_lexer": "ipython3",
   "version": "3.9.13"
  }
 },
 "nbformat": 4,
 "nbformat_minor": 5
}
